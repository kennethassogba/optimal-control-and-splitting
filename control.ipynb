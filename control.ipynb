{
 "cells": [
  {
   "cell_type": "code",
   "execution_count": 1,
   "metadata": {},
   "outputs": [
    {
     "name": "stdout",
     "output_type": "stream",
     "text": [
      "dt=0.5263157894736842\n"
     ]
    },
    {
     "data": {
      "text/plain": [
       "(1, 19)"
      ]
     },
     "execution_count": 1,
     "metadata": {},
     "output_type": "execute_result"
    }
   ],
   "source": [
    "from math import *\n",
    "from numpy import *\n",
    "from scipy import linalg\n",
    "T = 10\n",
    "L = 20 # nombre de pas\n",
    "t = linspace(0,T,L)\n",
    "# print(t)\n",
    "dt = t[2]-t[1]\n",
    "print(\"dt=\" +str(dt))\n",
    "H0 = array([[1, 0], [0, 2]])\n",
    "H1 = array([[0, 1], [1, 0]])\n",
    "y0 = [1, 0]\n",
    "y0 = transpose(y0)\n",
    "ycible = [0, 1]\n",
    "ycible = transpose(ycible)\n",
    "c = ones((1,L-1))\n",
    "alpha = 10\n",
    "maxiter = 30\n",
    "shape(c)"
   ]
  },
  {
   "cell_type": "markdown",
   "metadata": {},
   "source": [
    "Calculons y"
   ]
  },
  {
   "cell_type": "code",
   "execution_count": 2,
   "metadata": {},
   "outputs": [],
   "source": [
    "def splitting (H0, H1, dt, L, c, y0):\n",
    "    y = zeros((2,L))\n",
    "    y[:,0] = y0\n",
    "#     a=shape(linalg.expm((-1j)*H0*dt))\n",
    "#     b=shape(linalg.expm((-1j)*H1*c[:,L-2]*dt))\n",
    "#     d=shape(linalg.expm((-1j)*H1*c[:,L-2]*dt)@y[:,L-1])\n",
    "#     print(\"a \"+str(a)+\";b= \"+str(b)+\";d \"+str(d))\n",
    "    for i in range(1,L):\n",
    "#         print(i)\n",
    "        y[:,i] = linalg.expm((-1j)*H0*dt)@linalg.expm((-1j)*H1*c[:,i-1]*dt)@y[:,i-1]\n",
    "    return y"
   ]
  },
  {
   "cell_type": "code",
   "execution_count": 3,
   "metadata": {},
   "outputs": [
    {
     "name": "stdout",
     "output_type": "stream",
     "text": [
      "(2, 20)\n"
     ]
    },
    {
     "name": "stderr",
     "output_type": "stream",
     "text": [
      "/home/kenn/Documents/python/tensorflow/lib/python3.5/site-packages/ipykernel_launcher.py:10: ComplexWarning: Casting complex values to real discards the imaginary part\n",
      "  # Remove the CWD from sys.path while we load stuff.\n"
     ]
    }
   ],
   "source": [
    "y = splitting(H0, H1, dt, L, c, y0)\n",
    "print(shape(y))"
   ]
  },
  {
   "cell_type": "markdown",
   "metadata": {},
   "source": [
    "Calculons J"
   ]
  },
  {
   "cell_type": "code",
   "execution_count": 4,
   "metadata": {},
   "outputs": [],
   "source": [
    "def fonctionnelle (H0, H1, dt, L, c, ycible, y):\n",
    "    alpha = 10\n",
    "    yL=y[:,L-1]\n",
    "    c = c**2 # on eleve chaque terme de c au carree\n",
    "    c=sum(c) # somme des termes de c\n",
    "    return 1/2*linalg.norm(yL-ycible)**2 + alpha * dt * c"
   ]
  },
  {
   "cell_type": "code",
   "execution_count": 5,
   "metadata": {},
   "outputs": [
    {
     "name": "stdout",
     "output_type": "stream",
     "text": [
      "100.83210297268938\n"
     ]
    }
   ],
   "source": [
    "J = fonctionnelle(H0, H1, dt, L, c, ycible, y)\n",
    "print(J)"
   ]
  },
  {
   "cell_type": "markdown",
   "metadata": {},
   "source": [
    "Calculons p"
   ]
  },
  {
   "cell_type": "code",
   "execution_count": 6,
   "metadata": {},
   "outputs": [],
   "source": [
    "def calculP (H0, H1, dt, L, c, ycible, y):\n",
    "    p = zeros((2,L))\n",
    "    yL = y[:,L-1]\n",
    "#     print(yL-ycible)\n",
    "#     print(p[:,L-1])\n",
    "    p[:,L-1] = yL-ycible # p(T) de l'equation (3), yL=y(T)\n",
    "    for i in range(L-2,-1,-1): # backward range(start,end+1,pas)\n",
    "        p[:,i] = linalg.expm((-1j)*H1*c[:,i]*dt)@linalg.expm((-1j)*H0*dt)@p[:,i+1]\n",
    "    return p\n",
    "\n",
    "# for i in range(20,-1,-1):\n",
    "#     print(i, end=\" \")"
   ]
  },
  {
   "cell_type": "code",
   "execution_count": 7,
   "metadata": {},
   "outputs": [
    {
     "name": "stdout",
     "output_type": "stream",
     "text": [
      "(2, 20)\n"
     ]
    },
    {
     "name": "stderr",
     "output_type": "stream",
     "text": [
      "/home/kenn/Documents/python/tensorflow/lib/python3.5/site-packages/ipykernel_launcher.py:8: ComplexWarning: Casting complex values to real discards the imaginary part\n",
      "  \n"
     ]
    }
   ],
   "source": [
    "p = calculP (H0, H1, dt, L, c, ycible, y)\n",
    "print(shape(p))"
   ]
  },
  {
   "cell_type": "markdown",
   "metadata": {},
   "source": [
    "Calculons gradJ"
   ]
  },
  {
   "cell_type": "code",
   "execution_count": 8,
   "metadata": {},
   "outputs": [],
   "source": [
    "def gradJ (H0, H1, dt, L, c, ycible, y):\n",
    "    alpha = 10\n",
    "    p = calculP(H0, H1, dt, L, c, ycible, y)\n",
    "    p = transpose(p)\n",
    "    grad = 2*alpha*dt*c\n",
    "    for i in range(0,L-1):\n",
    "        grad[:,i] = grad[:,i] + real(p[i+1:i+2:,]@linalg.expm((-1j)*H0*dt)@((-1j)*H1*dt)@linalg.expm((-1j)*H1*c[:,i]*dt)@y[:,i])\n",
    "    return grad"
   ]
  },
  {
   "cell_type": "code",
   "execution_count": 9,
   "metadata": {},
   "outputs": [
    {
     "name": "stdout",
     "output_type": "stream",
     "text": [
      "(1, 19)\n"
     ]
    },
    {
     "name": "stderr",
     "output_type": "stream",
     "text": [
      "/home/kenn/Documents/python/tensorflow/lib/python3.5/site-packages/ipykernel_launcher.py:8: ComplexWarning: Casting complex values to real discards the imaginary part\n",
      "  \n"
     ]
    }
   ],
   "source": [
    "grad = gradJ (H0, H1, dt, L, c, ycible, y)\n",
    "print(shape(grad))"
   ]
  },
  {
   "cell_type": "markdown",
   "metadata": {},
   "source": [
    "Debug gradient: On verifie que le taux de variation - gradJ tend bien vers 0"
   ]
  },
  {
   "cell_type": "code",
   "execution_count": 10,
   "metadata": {},
   "outputs": [],
   "source": [
    "def debuggrad (H0, H1, dt, L, c, ycible, y):\n",
    "    c = random.rand(1,L-1)\n",
    "    dc = random.rand(1,L-1)\n",
    "    grad = gradJ (H0, H1, dt, L, c, ycible, y)\n",
    "    for i in range(1,7):\n",
    "        epsi = 10**(-i)\n",
    "        Jp = fonctionnelle (H0, H1, dt, L, c+epsi*dc, ycible, y)\n",
    "        Jm = fonctionnelle (H0, H1, dt, L, c-epsi*dc, ycible, y)\n",
    "        conv = (Jp-Jm)/(2*epsi)-grad@(transpose(dc))\n",
    "        print(conv)\n",
    "    "
   ]
  },
  {
   "cell_type": "code",
   "execution_count": 11,
   "metadata": {
    "scrolled": false
   },
   "outputs": [
    {
     "name": "stdout",
     "output_type": "stream",
     "text": [
      "[[-0.37247366]]\n",
      "[[-0.37247366]]\n",
      "[[-0.37247366]]\n",
      "[[-0.37247366]]\n",
      "[[-0.37247366]]\n",
      "[[-0.37247366]]\n"
     ]
    },
    {
     "name": "stderr",
     "output_type": "stream",
     "text": [
      "/home/kenn/Documents/python/tensorflow/lib/python3.5/site-packages/ipykernel_launcher.py:8: ComplexWarning: Casting complex values to real discards the imaginary part\n",
      "  \n"
     ]
    }
   ],
   "source": [
    "debuggrad (H0, H1, dt, L, c, ycible, y)"
   ]
  },
  {
   "cell_type": "markdown",
   "metadata": {},
   "source": [
    "Calculons enfin c"
   ]
  },
  {
   "cell_type": "code",
   "execution_count": 12,
   "metadata": {},
   "outputs": [],
   "source": [
    "def controle(H0, H1, dt, L, c, ycible, y):\n",
    "    rho = 0.1\n",
    "    for i in range(1,maxiter):\n",
    "        J = fonctionnelle(H0, H1, dt, L, c, ycible, y)\n",
    "        grad = gradJ(H0, H1, dt, L, c, ycible, y)\n",
    "        c = c - rho*grad\n",
    "        print(linalg.norm(grad))"
   ]
  },
  {
   "cell_type": "code",
   "execution_count": 13,
   "metadata": {},
   "outputs": [
    {
     "name": "stderr",
     "output_type": "stream",
     "text": [
      "/home/kenn/Documents/python/tensorflow/lib/python3.5/site-packages/ipykernel_launcher.py:8: ComplexWarning: Casting complex values to real discards the imaginary part\n",
      "  \n"
     ]
    },
    {
     "name": "stdout",
     "output_type": "stream",
     "text": [
      "46.024483139148096\n",
      "2.4465156190935784\n",
      "0.13627080265659694\n",
      "0.007568322412326191\n",
      "0.000418966670375718\n",
      "2.3121260623292747e-05\n",
      "1.2722808834011928e-06\n",
      "6.982176665707253e-08\n",
      "3.8223570380375314e-09\n",
      "2.0878303539019493e-10\n",
      "1.1380614931465164e-11\n",
      "6.191970906571704e-13\n",
      "3.362216142152035e-14\n",
      "1.811802116572607e-15\n",
      "1.0082632301392273e-16\n",
      "1.5418044880947972e-17\n",
      "1.3911683624122383e-17\n",
      "1.3884562595870138e-17\n",
      "1.3884562419453365e-17\n",
      "1.3884562418242266e-17\n",
      "1.3884562418242266e-17\n",
      "1.3884562418242266e-17\n",
      "1.3884562418242266e-17\n",
      "1.3884562418242266e-17\n",
      "1.3884562418242266e-17\n",
      "1.3884562418242266e-17\n",
      "1.3884562418242266e-17\n",
      "1.3884562418242266e-17\n",
      "1.3884562418242266e-17\n"
     ]
    }
   ],
   "source": [
    "c = controle(H0, H1, dt, L, c, ycible, y)"
   ]
  },
  {
   "cell_type": "code",
   "execution_count": null,
   "metadata": {},
   "outputs": [],
   "source": []
  }
 ],
 "metadata": {
  "kernelspec": {
   "display_name": "datatest",
   "language": "python",
   "name": "datatest"
  },
  "language_info": {
   "codemirror_mode": {
    "name": "ipython",
    "version": 3
   },
   "file_extension": ".py",
   "mimetype": "text/x-python",
   "name": "python",
   "nbconvert_exporter": "python",
   "pygments_lexer": "ipython3",
   "version": "3.5.2"
  }
 },
 "nbformat": 4,
 "nbformat_minor": 2
}
