{
 "cells": [
  {
   "cell_type": "markdown",
   "metadata": {},
   "source": [
    "Optimal control of a Schrödinger type equation with an operator splitting + gradient descent methods"
   ]
  },
  {
   "cell_type": "code",
   "execution_count": null,
   "metadata": {},
   "outputs": [],
   "source": [
    "from math import *\n",
    "from numpy import *\n",
    "from scipy import linalg\n",
    "T = 10\n",
    "L = 20 # number of step\n",
    "t = linspace(0,T,L)\n",
    "# print(t)\n",
    "dt = t[2]-t[1]\n",
    "#print(\"dt=\" +str(dt))\n",
    "H0 = array([[1, 0], [0, 2]])\n",
    "H1 = array([[0, 1], [1, 0]])\n",
    "y0 = [1, 0]\n",
    "y0 = transpose(y0)\n",
    "ycible = [0, 1]\n",
    "ycible = transpose(ycible)\n",
    "c = ones((1,L-1))\n",
    "alpha = 10\n",
    "maxiter = 30\n",
    "#shape(c)"
   ]
  },
  {
   "cell_type": "markdown",
   "metadata": {},
   "source": [
    "Calculons y"
   ]
  },
  {
   "cell_type": "code",
   "execution_count": null,
   "metadata": {},
   "outputs": [],
   "source": [
    "def splitting (H0, H1, dt, L, c, y0):\n",
    "    y = zeros((2,L))\n",
    "    y[:,0] = y0\n",
    "\n",
    "    for i in range(1,L):\n",
    "        y[:,i] = linalg.expm((-1j)*H0*dt)@linalg.expm((-1j)*H1*c[:,i-1]*dt)@y[:,i-1]\n",
    "    return y"
   ]
  },
  {
   "cell_type": "code",
   "execution_count": null,
   "metadata": {},
   "outputs": [],
   "source": [
    "y = splitting(H0, H1, dt, L, c, y0)\n",
    "#print(shape(y))"
   ]
  },
  {
   "cell_type": "markdown",
   "metadata": {},
   "source": [
    "Calculons J"
   ]
  },
  {
   "cell_type": "code",
   "execution_count": null,
   "metadata": {},
   "outputs": [],
   "source": [
    "def fonctionnelle (H0, H1, dt, L, c, ycible, y):\n",
    "    alpha = 10\n",
    "    yL=y[:,L-1]\n",
    "    c = c**2 # on eleve chaque terme de c au carree\n",
    "    c=sum(c) # somme des termes de c\n",
    "    return 1/2*linalg.norm(yL-ycible)**2 + alpha * dt * c"
   ]
  },
  {
   "cell_type": "code",
   "execution_count": null,
   "metadata": {},
   "outputs": [],
   "source": [
    "J = fonctionnelle(H0, H1, dt, L, c, ycible, y)\n",
    "print(J)"
   ]
  },
  {
   "cell_type": "markdown",
   "metadata": {},
   "source": [
    "Calculons p"
   ]
  },
  {
   "cell_type": "code",
   "execution_count": null,
   "metadata": {},
   "outputs": [],
   "source": [
    "def calculP (H0, H1, dt, L, c, ycible, y):\n",
    "    p = zeros((2,L))\n",
    "    yL = y[:,L-1]\n",
    "#     print(yL-ycible)\n",
    "#     print(p[:,L-1])\n",
    "    p[:,L-1] = yL-ycible # p(T) de l'equation (3), yL=y(T)\n",
    "    for i in range(L-2,-1,-1): # backward range(start,end+1,pas)\n",
    "        p[:,i] = linalg.expm((-1j)*H1*c[:,i]*dt)@linalg.expm((-1j)*H0*dt)@p[:,i+1]\n",
    "    return p\n",
    "\n",
    "# for i in range(20,-1,-1):\n",
    "#     print(i, end=\" \")"
   ]
  },
  {
   "cell_type": "code",
   "execution_count": null,
   "metadata": {},
   "outputs": [],
   "source": [
    "p = calculP (H0, H1, dt, L, c, ycible, y)\n",
    "#print(shape(p))"
   ]
  },
  {
   "cell_type": "markdown",
   "metadata": {},
   "source": [
    "Calculons gradJ"
   ]
  },
  {
   "cell_type": "code",
   "execution_count": null,
   "metadata": {},
   "outputs": [],
   "source": [
    "def gradJ (H0, H1, dt, L, c, ycible, y):\n",
    "    alpha = 10\n",
    "    p = calculP(H0, H1, dt, L, c, ycible, y)\n",
    "    p = transpose(p)\n",
    "    grad = 2*alpha*dt*c\n",
    "    for i in range(0,L-1):\n",
    "        grad[:,i] = grad[:,i] + real(p[i+1:i+2:,]@linalg.expm((-1j)*H0*dt)@((-1j)*H1*dt)@linalg.expm((-1j)*H1*c[:,i]*dt)@y[:,i])\n",
    "    return grad"
   ]
  },
  {
   "cell_type": "code",
   "execution_count": null,
   "metadata": {},
   "outputs": [],
   "source": [
    "grad = gradJ (H0, H1, dt, L, c, ycible, y)\n",
    "#print(shape(grad))"
   ]
  },
  {
   "cell_type": "markdown",
   "metadata": {},
   "source": [
    "Debug gradient: On verifie que le taux de variation - gradJ tend bien vers 0"
   ]
  },
  {
   "cell_type": "code",
   "execution_count": null,
   "metadata": {},
   "outputs": [],
   "source": [
    "def debuggrad (H0, H1, dt, L, c, ycible, y):\n",
    "    c = random.rand(1,L-1)\n",
    "    dc = random.rand(1,L-1)\n",
    "    grad = gradJ (H0, H1, dt, L, c, ycible, y)\n",
    "    for i in range(1,7):\n",
    "        epsi = 10**(-i)\n",
    "        Jp = fonctionnelle (H0, H1, dt, L, c+epsi*dc, ycible, y)\n",
    "        Jm = fonctionnelle (H0, H1, dt, L, c-epsi*dc, ycible, y)\n",
    "        conv = (Jp-Jm)/(2*epsi)-grad@(transpose(dc))\n",
    "        print(conv)\n",
    "    "
   ]
  },
  {
   "cell_type": "code",
   "execution_count": null,
   "metadata": {
    "scrolled": false
   },
   "outputs": [],
   "source": [
    "debuggrad (H0, H1, dt, L, c, ycible, y)"
   ]
  },
  {
   "cell_type": "markdown",
   "metadata": {},
   "source": [
    "Calculons enfin c"
   ]
  },
  {
   "cell_type": "code",
   "execution_count": null,
   "metadata": {},
   "outputs": [],
   "source": [
    "def controle(H0, H1, dt, L, c, ycible, y):\n",
    "    rho = 0.1\n",
    "    for i in range(1,maxiter):\n",
    "        J = fonctionnelle(H0, H1, dt, L, c, ycible, y)\n",
    "        grad = gradJ(H0, H1, dt, L, c, ycible, y)\n",
    "        c = c - rho*grad\n",
    "        print(linalg.norm(grad))"
   ]
  },
  {
   "cell_type": "code",
   "execution_count": null,
   "metadata": {},
   "outputs": [],
   "source": [
    "c = controle(H0, H1, dt, L, c, ycible, y)"
   ]
  },
  {
   "cell_type": "code",
   "execution_count": null,
   "metadata": {},
   "outputs": [],
   "source": []
  }
 ],
 "metadata": {
  "kernelspec": {
   "display_name": "Python 3.10.4 64-bit",
   "language": "python",
   "name": "python3"
  },
  "language_info": {
   "codemirror_mode": {
    "name": "ipython",
    "version": 3
   },
   "file_extension": ".py",
   "mimetype": "text/x-python",
   "name": "python",
   "nbconvert_exporter": "python",
   "pygments_lexer": "ipython3",
   "version": "3.10.4"
  },
  "vscode": {
   "interpreter": {
    "hash": "3ad933181bd8a04b432d3370b9dc3b0662ad032c4dfaa4e4f1596c548f763858"
   }
  }
 },
 "nbformat": 4,
 "nbformat_minor": 2
}
